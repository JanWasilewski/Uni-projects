{
 "cells": [
  {
   "cell_type": "code",
   "execution_count": 1,
   "id": "942d3ae8",
   "metadata": {},
   "outputs": [],
   "source": [
    "import numpy as np\n",
    "import matplotlib.pyplot as plt\n",
    "import cv2\n",
    "import matplotlib as mpl\n",
    "mpl.rc('image', cmap='gray')"
   ]
  },
  {
   "cell_type": "code",
   "execution_count": 10,
   "id": "bbe28424",
   "metadata": {},
   "outputs": [
    {
     "data": {
      "text/plain": [
       "<matplotlib.image.AxesImage at 0x7f1e7f572ee0>"
      ]
     },
     "execution_count": 10,
     "metadata": {},
     "output_type": "execute_result"
    },
    {
     "data": {
      "image/png": "[encoded data removed]",
      "text/plain": [
       "<Figure size 432x288 with 2 Axes>"
      ]
     },
     "metadata": {
      "needs_background": "light"
     },
     "output_type": "display_data"
    }
   ],
   "source": [
    "image = np.full((9, 9), 0)\n",
    "filt = np.linspace(0, 1, 9, dtype = np.float32).reshape((3,3))\n",
    "image[4,4] = 255\n",
    "plt.subplot(1,2,1)\n",
    "plt.imshow(filt)\n",
    "plt.subplot(1,2,2)\n",
    "plt.imshow(image/255)"
   ]
  },
  {
   "cell_type": "code",
   "execution_count": 26,
   "id": "6ec923b1",
   "metadata": {},
   "outputs": [
    {
     "name": "stdout",
     "output_type": "stream",
     "text": [
      "Help on built-in function filter2D:\n",
      "\n",
      "filter2D(...)\n",
      "    filter2D(src, ddepth, kernel[, dst[, anchor[, delta[, borderType]]]]) -> dst\n",
      "    .   @brief Convolves an image with the kernel.\n",
      "    .   \n",
      "    .   The function applies an arbitrary linear filter to an image. In-place operation is supported. When\n",
      "    .   the aperture is partially outside the image, the function interpolates outlier pixel values\n",
      "    .   according to the specified border mode.\n",
      "    .   \n",
      "    .   The function does actually compute correlation, not the convolution:\n",
      "    .   \n",
      "    .   \\f[\\texttt{dst} (x,y) =  \\sum _{ \\substack{0\\leq x' < \\texttt{kernel.cols}\\\\{0\\leq y' < \\texttt{kernel.rows}}}}  \\texttt{kernel} (x',y')* \\texttt{src} (x+x'- \\texttt{anchor.x} ,y+y'- \\texttt{anchor.y} )\\f]\n",
      "    .   \n",
      "    .   That is, the kernel is not mirrored around the anchor point. If you need a real convolution, flip\n",
      "    .   the kernel using #flip and set the new anchor to `(kernel.cols - anchor.x - 1, kernel.rows -\n",
      "    .   anchor.y - 1)`.\n",
      "    .   \n",
      "    .   The function uses the DFT-based algorithm in case of sufficiently large kernels (~`11 x 11` or\n",
      "    .   larger) and the direct algorithm for small kernels.\n",
      "    .   \n",
      "    .   @param src input image.\n",
      "    .   @param dst output image of the same size and the same number of channels as src.\n",
      "    .   @param ddepth desired depth of the destination image, see @ref filter_depths \"combinations\"\n",
      "    .   @param kernel convolution kernel (or rather a correlation kernel), a single-channel floating point\n",
      "    .   matrix; if you want to apply different kernels to different channels, split the image into\n",
      "    .   separate color planes using split and process them individually.\n",
      "    .   @param anchor anchor of the kernel that indicates the relative position of a filtered point within\n",
      "    .   the kernel; the anchor should lie within the kernel; default value (-1,-1) means that the anchor\n",
      "    .   is at the kernel center.\n",
      "    .   @param delta optional value added to the filtered pixels before storing them in dst.\n",
      "    .   @param borderType pixel extrapolation method, see #BorderTypes. #BORDER_WRAP is not supported.\n",
      "    .   @sa  sepFilter2D, dft, matchTemplate\n",
      "\n"
     ]
    }
   ],
   "source": [
    "help(cv2.filter2D)"
   ]
  },
  {
   "cell_type": "code",
   "execution_count": 30,
   "id": "ac4ce468",
   "metadata": {},
   "outputs": [
    {
     "data": {
      "text/plain": [
       "<matplotlib.image.AxesImage at 0x7f1e7c926850>"
      ]
     },
     "execution_count": 30,
     "metadata": {},
     "output_type": "execute_result"
    },
    {
     "data": {
      "image/png": "[encoded data removed]",
      "text/plain": [
       "<Figure size 432x288 with 2 Axes>"
      ]
     },
     "metadata": {
      "needs_background": "light"
     },
     "output_type": "display_data"
    }
   ],
   "source": [
    "from scipy.signal import correlate\n",
    "corr1 = correlate(image, filt)\n",
    "plt.subplot(1,2,1)\n",
    "plt.imshow(corr1)\n",
    "\n",
    "plt.subplot(1,2,2)\n",
    "corr2 = cv2.filter2D(image.astype(np.uint8), -1, filt, borderType = cv2.BORDER_REFLECT101)\n",
    "plt.imshow(corr2/255)"
   ]
  }
 ],
 "metadata": {
  "kernelspec": {
   "display_name": "Python 3",
   "language": "python",
   "name": "python3"
  },
  "language_info": {
   "codemirror_mode": {
    "name": "ipython",
    "version": 3
   },
   "file_extension": ".py",
   "mimetype": "text/x-python",
   "name": "python",
   "nbconvert_exporter": "python",
   "pygments_lexer": "ipython3",
   "version": "3.8.5"
  }
 },
 "nbformat": 4,
 "nbformat_minor": 5
}
